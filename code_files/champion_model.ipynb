{
 "cells": [
  {
   "cell_type": "code",
   "execution_count": 11,
   "id": "d28c4ca5-4cc3-4f46-853c-52cbb0bafde3",
   "metadata": {},
   "outputs": [],
   "source": [
    "import warnings\n",
    "warnings.filterwarnings('ignore')\n",
    "\n",
    "import tensorflow as tf\n",
    "import numpy as np\n",
    "import pandas as pd\n",
    "from tensorflow.keras.preprocessing.image import ImageDataGenerator\n",
    "from sklearn.metrics import classification_report\n",
    "\n",
    "# Define input sizes for each model\n",
    "input_sizes = {\n",
    "    \"Custom CNN\": (224, 224),\n",
    "    \"MobileNetV2\": (224, 224),\n",
    "    \"EfficientNetB0\": (224, 224),\n",
    "    \"ResNet50\": (299, 299),\n",
    "    \"InceptionV3\": (299, 299)\n",
    "}\n",
    "\n",
    "# List of saved models\n",
    "model_files = {\n",
    "    \"Custom CNN\": \"cnn_model.h5\",\n",
    "    \"MobileNetV2\": \"mobinet_model.h5\",\n",
    "    \"EfficientNetB0\": \"eff_model.h5\",\n",
    "    \"ResNet50\": \"restnet_model.h5\",\n",
    "    \"InceptionV3\": \"inceptionV3_model.h5\"\n",
    "}\n",
    "\n",
    "# Class names (replace with your actual class list)\n",
    "class_names = [\n",
    "    'animal fish', 'animal fish bass', 'fish sea_food black_sea_sprat',\n",
    "    'fish sea_food gilt_head_bream', 'fish sea_food hourse_mackerel',\n",
    "    'fish sea_food red_mullet', 'fish sea_food red_sea_bream',\n",
    "    'fish sea_food sea_bass', 'fish sea_food shrimp',\n",
    "    'fish sea_food striped_red_mullet', 'fish sea_food trout'\n",
    "]"
   ]
  },
  {
   "cell_type": "code",
   "execution_count": 12,
   "id": "15ec301d-cb0f-4acb-8648-b6824cce9c41",
   "metadata": {},
   "outputs": [
    {
     "name": "stdout",
     "output_type": "stream",
     "text": [
      "\n",
      "Evaluating Custom CNN...\n",
      "Found 3187 images belonging to 11 classes.\n"
     ]
    },
    {
     "name": "stderr",
     "output_type": "stream",
     "text": [
      "WARNING:absl:Compiled the loaded model, but the compiled metrics have yet to be built. `model.compile_metrics` will be empty until you train or evaluate the model.\n"
     ]
    },
    {
     "name": "stdout",
     "output_type": "stream",
     "text": [
      "\u001b[1m100/100\u001b[0m \u001b[32m━━━━━━━━━━━━━━━━━━━━\u001b[0m\u001b[37m\u001b[0m \u001b[1m14s\u001b[0m 137ms/step\n",
      "\n",
      "Evaluating MobileNetV2...\n",
      "Found 3187 images belonging to 11 classes.\n"
     ]
    },
    {
     "name": "stderr",
     "output_type": "stream",
     "text": [
      "WARNING:absl:Compiled the loaded model, but the compiled metrics have yet to be built. `model.compile_metrics` will be empty until you train or evaluate the model.\n"
     ]
    },
    {
     "name": "stdout",
     "output_type": "stream",
     "text": [
      "\u001b[1m100/100\u001b[0m \u001b[32m━━━━━━━━━━━━━━━━━━━━\u001b[0m\u001b[37m\u001b[0m \u001b[1m50s\u001b[0m 485ms/step\n",
      "\n",
      "Evaluating EfficientNetB0...\n",
      "Found 3187 images belonging to 11 classes.\n"
     ]
    },
    {
     "name": "stderr",
     "output_type": "stream",
     "text": [
      "WARNING:absl:Compiled the loaded model, but the compiled metrics have yet to be built. `model.compile_metrics` will be empty until you train or evaluate the model.\n"
     ]
    },
    {
     "name": "stdout",
     "output_type": "stream",
     "text": [
      "\u001b[1m100/100\u001b[0m \u001b[32m━━━━━━━━━━━━━━━━━━━━\u001b[0m\u001b[37m\u001b[0m \u001b[1m66s\u001b[0m 638ms/step \n",
      "\n",
      "Evaluating ResNet50...\n",
      "Found 3187 images belonging to 11 classes.\n"
     ]
    },
    {
     "name": "stderr",
     "output_type": "stream",
     "text": [
      "WARNING:absl:Compiled the loaded model, but the compiled metrics have yet to be built. `model.compile_metrics` will be empty until you train or evaluate the model.\n"
     ]
    },
    {
     "name": "stdout",
     "output_type": "stream",
     "text": [
      "\u001b[1m100/100\u001b[0m \u001b[32m━━━━━━━━━━━━━━━━━━━━\u001b[0m\u001b[37m\u001b[0m \u001b[1m248s\u001b[0m 2s/step\n",
      "\n",
      "Evaluating InceptionV3...\n",
      "Found 3187 images belonging to 11 classes.\n"
     ]
    },
    {
     "name": "stderr",
     "output_type": "stream",
     "text": [
      "WARNING:absl:Compiled the loaded model, but the compiled metrics have yet to be built. `model.compile_metrics` will be empty until you train or evaluate the model.\n"
     ]
    },
    {
     "name": "stdout",
     "output_type": "stream",
     "text": [
      "\u001b[1m100/100\u001b[0m \u001b[32m━━━━━━━━━━━━━━━━━━━━\u001b[0m\u001b[37m\u001b[0m \u001b[1m142s\u001b[0m 1s/step\n",
      "\n",
      "=== Model Comparison ===\n",
      "            Model  Accuracy  Precision    Recall  F1-Score\n",
      "0     MobileNetV2  0.992783   0.992913  0.992783  0.992052\n",
      "1     InceptionV3  0.980546   0.981345  0.980546  0.980128\n",
      "2      Custom CNN  0.865391   0.873671  0.865391  0.856002\n",
      "3        ResNet50  0.215249   0.101059  0.215249  0.122535\n",
      "4  EfficientNetB0  0.163163   0.026622  0.163163  0.045775\n",
      "\n",
      "🏆 Champion Model: MobileNetV2 with Accuracy: 0.9928\n"
     ]
    }
   ],
   "source": [
    "results = []\n",
    "\n",
    "# Loop through each model and evaluate\n",
    "for model_name, file_path in model_files.items():\n",
    "    print(f\"\\nEvaluating {model_name}...\")\n",
    "\n",
    "    # Create test generator for the specific model input size\n",
    "    target_size = input_sizes[model_name]\n",
    "    test_datagen = ImageDataGenerator(rescale=1./255)\n",
    "    test_gen = test_datagen.flow_from_directory(\n",
    "        'data/test',  # Change to your actual test dataset path\n",
    "        target_size=target_size,\n",
    "        batch_size=32,\n",
    "        class_mode='categorical',\n",
    "        shuffle=False\n",
    "    )\n",
    "\n",
    "    # Load model\n",
    "    model = tf.keras.models.load_model(file_path)\n",
    "\n",
    "    # Evaluate accuracy\n",
    "    loss, acc = model.evaluate(test_gen, verbose=0)\n",
    "\n",
    "    # Predictions\n",
    "    y_pred = np.argmax(model.predict(test_gen), axis=1)\n",
    "    y_true = test_gen.classes\n",
    "\n",
    "    # Classification report\n",
    "    report = classification_report(\n",
    "        y_true, y_pred, target_names=class_names, output_dict=True\n",
    "    )\n",
    "    precision = report['weighted avg']['precision']\n",
    "    recall = report['weighted avg']['recall']\n",
    "    f1 = report['weighted avg']['f1-score']\n",
    "\n",
    "    results.append({\n",
    "        \"Model\": model_name,\n",
    "        \"Accuracy\": acc,\n",
    "        \"Precision\": precision,\n",
    "        \"Recall\": recall,\n",
    "        \"F1-Score\": f1\n",
    "    })\n",
    "\n",
    "# Create DataFrame for easy comparison\n",
    "df_results = pd.DataFrame(results).sort_values(by=\"Accuracy\", ascending=False).reset_index(drop=True)\n",
    "\n",
    "print(\"\\n=== Model Comparison ===\")\n",
    "print(df_results)\n",
    "\n",
    "# Champion model\n",
    "champion = df_results.iloc[0]\n",
    "print(f\"\\n🏆 Champion Model: {champion['Model']} with Accuracy: {champion['Accuracy']:.4f}\")\n"
   ]
  },
  {
   "cell_type": "code",
   "execution_count": null,
   "id": "b3b8d84e-6886-42c8-8da3-4a6de9efdfdc",
   "metadata": {},
   "outputs": [],
   "source": []
  },
  {
   "cell_type": "markdown",
   "id": "66bd257f-a432-4d11-814d-29360fa3edd5",
   "metadata": {},
   "source": [
    "# StreamLit Web App"
   ]
  }
 ],
 "metadata": {
  "kernelspec": {
   "display_name": "Fish_classifier_env",
   "language": "python",
   "name": "fish_classifier_env"
  },
  "language_info": {
   "codemirror_mode": {
    "name": "ipython",
    "version": 3
   },
   "file_extension": ".py",
   "mimetype": "text/x-python",
   "name": "python",
   "nbconvert_exporter": "python",
   "pygments_lexer": "ipython3",
   "version": "3.10.10"
  }
 },
 "nbformat": 4,
 "nbformat_minor": 5
}
