{
 "cells": [
  {
   "cell_type": "code",
   "execution_count": 3,
   "id": "ef036fee-5b8f-47f4-8720-fe6b6e218398",
   "metadata": {},
   "outputs": [],
   "source": [
    "#pip install streamlit"
   ]
  },
  {
   "cell_type": "code",
   "execution_count": 4,
   "id": "dc5ab739-a194-4b4a-a769-b07161f56337",
   "metadata": {},
   "outputs": [],
   "source": [
    "#pip install streamlit pyngrok"
   ]
  },
  {
   "cell_type": "code",
   "execution_count": 16,
   "id": "78633cb2-7d3f-4c2e-8cc6-5436276c5178",
   "metadata": {},
   "outputs": [
    {
     "name": "stderr",
     "output_type": "stream",
     "text": [
      "WARNING:absl:Compiled the loaded model, but the compiled metrics have yet to be built. `model.compile_metrics` will be empty until you train or evaluate the model.\n"
     ]
    }
   ],
   "source": [
    "model = tf.keras.models.load_model(\"mobinet_model.h5\")\n",
    "model.compile(optimizer='adam', loss='categorical_crossentropy', metrics=['accuracy'])"
   ]
  },
  {
   "cell_type": "code",
   "execution_count": null,
   "id": "2fbe103d-7115-4860-b939-7260ff86f6d5",
   "metadata": {},
   "outputs": [],
   "source": []
  },
  {
   "cell_type": "code",
   "execution_count": 1,
   "id": "a12b28ee-cbcd-4180-8ebd-cea7a58e043d",
   "metadata": {},
   "outputs": [
    {
     "name": "stdout",
     "output_type": "stream",
     "text": [
      "Overwriting app.py\n"
     ]
    }
   ],
   "source": [
    "%%writefile app.py\n",
    "import streamlit as st\n",
    "import tensorflow as tf\n",
    "import numpy as np\n",
    "from PIL import Image\n",
    "import warnings\n",
    "\n",
    "warnings.filterwarnings(\"ignore\")\n",
    "\n",
    "# ===========================\n",
    "# 1. Load Model & Class Names\n",
    "# ===========================\n",
    "MODEL_PATH = \"mobinet_model.h5\" \n",
    "model = tf.keras.models.load_model(MODEL_PATH)\n",
    "model.compile(optimizer='adam', loss='categorical_crossentropy', metrics=['accuracy'])\n",
    "class_names = [\n",
    "    'animal fish',\n",
    "    'animal fish bass',\n",
    "    'fish sea_food black_sea_sprat',\n",
    "    'fish sea_food gilt_head_bream',\n",
    "    'fish sea_food hourse_mackerel',\n",
    "    'fish sea_food red_mullet',\n",
    "    'fish sea_food red_sea_bream',\n",
    "    'fish sea_food sea_bass',\n",
    "    'fish sea_food shrimp',\n",
    "    'fish sea_food striped_red_mullet',\n",
    "    'fish sea_food trout'\n",
    "]\n",
    "\n",
    "IMG_SIZE = (224, 224)  # MobileNetV2 input size\n",
    "\n",
    "# ===========================\n",
    "# 2. Streamlit UI\n",
    "# ===========================\n",
    "st.set_page_config(page_title=\"Fish Classifier\", layout=\"centered\")\n",
    "\n",
    "st.title(\"🐟 Fish Species Classifier\")\n",
    "st.write(\"Upload an image of a fish and the model will predict its category.\")\n",
    "\n",
    "uploaded_file = st.file_uploader(\"Choose an image...\", type=[\"jpg\", \"jpeg\", \"png\"])\n",
    "\n",
    "if uploaded_file is not None:\n",
    "    # Display uploaded image\n",
    "    image = Image.open(uploaded_file).convert(\"RGB\")\n",
    "    st.image(image, caption=\"Uploaded Image\", use_container_width=True)\n",
    "\n",
    "    # ===========================\n",
    "    # 3. Preprocess Image\n",
    "    # ===========================\n",
    "    img_resized = image.resize(IMG_SIZE)\n",
    "    img_array = np.array(img_resized) / 255.0  # normalize\n",
    "    img_array = np.expand_dims(img_array, axis=0)  # add batch dimension\n",
    "\n",
    "    # ===========================\n",
    "    # 4. Predict\n",
    "    # ===========================\n",
    "    predictions = model.predict(img_array)\n",
    "    predicted_class = class_names[np.argmax(predictions)]\n",
    "    confidence = np.max(predictions) * 100\n",
    "\n",
    "    # ===========================\n",
    "    # 5. Display Results\n",
    "    # ===========================\n",
    "    st.markdown(f\"### 🏆 Prediction: **{predicted_class}**\")\n",
    "    st.write(f\"**Confidence:** {confidence:.2f}%\")\n",
    "\n",
    "    # Show top 3 predictions\n",
    "    top_indices = predictions[0].argsort()[-3:][::-1]\n",
    "    st.subheader(\"Top 3 Predictions\")\n",
    "    for i in top_indices:\n",
    "        st.write(f\"{class_names[i]}: {predictions[0][i]*100:.2f}%\")\n"
   ]
  },
  {
   "cell_type": "code",
   "execution_count": 2,
   "id": "76859b11-e1da-4741-8330-8ed62498b003",
   "metadata": {},
   "outputs": [
    {
     "name": "stdout",
     "output_type": "stream",
     "text": [
      "Authtoken saved to configuration file: C:\\Users\\uttam\\AppData\\Local/ngrok/ngrok.yml\n"
     ]
    }
   ],
   "source": [
    "!ngrok authtoken 30ExLK2yDH73ImYhMUlfbrV518q_87wDqbXdQGMkeiis6A7wV"
   ]
  },
  {
   "cell_type": "code",
   "execution_count": 7,
   "id": "28c3cd16-628d-4fd7-a727-2f4421273b65",
   "metadata": {},
   "outputs": [],
   "source": [
    "# write code for Generating App link to streamlit\n",
    "import os\n",
    "import threading\n",
    "\n",
    "def run_streamlit():\n",
    "    os.system(\"streamlit run app.py --server.port 8080\")\n",
    "\n",
    "thread = threading.Thread(target = run_streamlit)\n",
    "thread.start()"
   ]
  },
  {
   "cell_type": "code",
   "execution_count": 8,
   "id": "f4a549d6-b3fb-44d6-92f4-40f1d2d0d37f",
   "metadata": {},
   "outputs": [
    {
     "name": "stdout",
     "output_type": "stream",
     "text": [
      "Your streamlit URL is :-  NgrokTunnel: \"https://1e64f9edfd71.ngrok-free.app\" -> \"http://localhost:8080\"\n"
     ]
    }
   ],
   "source": [
    "from pyngrok import ngrok\n",
    "import time\n",
    "\n",
    "time.sleep(5)\n",
    "\n",
    "public_url = ngrok.connect(8080)\n",
    "print('Your streamlit URL is :- ', public_url)"
   ]
  },
  {
   "cell_type": "code",
   "execution_count": 6,
   "id": "c3b9c09d-aa8e-49e1-87dc-336c7fce527a",
   "metadata": {},
   "outputs": [],
   "source": [
    "#!pip install tensorflow"
   ]
  },
  {
   "cell_type": "code",
   "execution_count": 10,
   "id": "95924822-2fe3-4d57-b919-0c75e5fa8b7d",
   "metadata": {},
   "outputs": [
    {
     "name": "stdout",
     "output_type": "stream",
     "text": [
      "10\n"
     ]
    }
   ],
   "source": [
    "print(len(\"data/test/\"))"
   ]
  },
  {
   "cell_type": "code",
   "execution_count": null,
   "id": "11b36561-9177-4105-bbff-01c5953b0d62",
   "metadata": {},
   "outputs": [],
   "source": []
  }
 ],
 "metadata": {
  "kernelspec": {
   "display_name": "Fish_classifier_env",
   "language": "python",
   "name": "fish_classifier_env"
  },
  "language_info": {
   "codemirror_mode": {
    "name": "ipython",
    "version": 3
   },
   "file_extension": ".py",
   "mimetype": "text/x-python",
   "name": "python",
   "nbconvert_exporter": "python",
   "pygments_lexer": "ipython3",
   "version": "3.10.10"
  }
 },
 "nbformat": 4,
 "nbformat_minor": 5
}
